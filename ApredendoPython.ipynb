{
  "nbformat": 4,
  "nbformat_minor": 0,
  "metadata": {
    "colab": {
      "provenance": [],
      "toc_visible": true,
      "authorship_tag": "ABX9TyOy086Dh2dk+2Hy+83HkWWf"
    },
    "kernelspec": {
      "name": "python3",
      "display_name": "Python 3"
    },
    "language_info": {
      "name": "python"
    }
  },
  "cells": [
    {
      "cell_type": "code",
      "source": [
        "#Sistema que caucula o IMC de uma pessoa\n",
        "\n",
        "peso = float (input('Insira seu peso: '))\n",
        "altura = float (input('Insira sua altura: '))\n",
        "result = peso / altura** 2\n",
        "print(\"Seu Índice de massa corporal é: \", result)"
      ],
      "metadata": {
        "colab": {
          "base_uri": "https://localhost:8080/"
        },
        "id": "05mrz1qi8UNt",
        "outputId": "57a81356-351d-40ac-de5c-b6154ed03756"
      },
      "execution_count": 14,
      "outputs": [
        {
          "output_type": "stream",
          "name": "stdout",
          "text": [
            "Insira seu peso: 43.5\n",
            "Insira sua altura: 1.81\n",
            "Seu Índice de massa corporal é:  13.277982967552884\n"
          ]
        }
      ]
    },
    {
      "cell_type": "code",
      "source": [
        "#Sistema que calcula a circuferência de um círculo\n",
        "\n",
        "raio = float(input('Insira o valor do Raio'))\n",
        "area = 2 * 3.14 * raio\n",
        "print(\"A área da circuferência é: \", area)"
      ],
      "metadata": {
        "colab": {
          "base_uri": "https://localhost:8080/"
        },
        "id": "k1NJPiKM-vXK",
        "outputId": "fe340dc5-d0b3-4e01-84ea-006f1da28022"
      },
      "execution_count": 15,
      "outputs": [
        {
          "output_type": "stream",
          "name": "stdout",
          "text": [
            "Insira o valor do Raio7.4\n",
            "A área da circuferência é:  46.472\n"
          ]
        }
      ]
    },
    {
      "cell_type": "code",
      "source": [
        "#Sistema de conversão de Celsius para Kelvin\n",
        "\n",
        "celsius = float(input('Insira o valor em Celsius: '))\n",
        "kelvin = celsius + 273.15\n",
        "print(f\"A temperatura indicada em celsius é: {kelvin} em Kelvin\")"
      ],
      "metadata": {
        "colab": {
          "base_uri": "https://localhost:8080/"
        },
        "id": "Ib6JHHbY_G4p",
        "outputId": "4eb4f137-12cf-4424-8e79-b9ed2fc14e38"
      },
      "execution_count": 17,
      "outputs": [
        {
          "output_type": "stream",
          "name": "stdout",
          "text": [
            "Insira o valor em Celsius: 28\n",
            "A temperatura indicada em celsius é: 301.15 em Kelvin\n"
          ]
        }
      ]
    },
    {
      "cell_type": "code",
      "source": [
        "#Sistema para conferir a idade para concurso público\n",
        "idade = int(input('Insira a sua idade: '))\n",
        "\n",
        "if (idade >= 18):\n",
        "    print(\"Apto para inscrição no concurso público\")\n",
        "else:\n",
        "    print(\"idade insuficiente para prestar concurso público\")\n"
      ],
      "metadata": {
        "colab": {
          "base_uri": "https://localhost:8080/"
        },
        "id": "7my1sCGsCgIj",
        "outputId": "b0f96d75-f824-4f17-a9f9-5a79be45f9f5"
      },
      "execution_count": 20,
      "outputs": [
        {
          "output_type": "stream",
          "name": "stdout",
          "text": [
            "Insira a sua idade: 18\n",
            "Apto para inscrição no concurso público\n"
          ]
        }
      ]
    },
    {
      "cell_type": "code",
      "source": [
        "#Sistema básico de identificação numérica\n",
        "\n",
        "valor = float (input('Insira um valor qualquer: '))\n",
        "\n",
        "if (valor > 0):\n",
        "    print(\"Valor positivo\")\n",
        "elif (valor == 0):\n",
        "    print(\"Valor é zero\")\n",
        "else:\n",
        "    print(\"Valor negativo\")"
      ],
      "metadata": {
        "colab": {
          "base_uri": "https://localhost:8080/"
        },
        "id": "9TLu5rxtES2a",
        "outputId": "d1a279fd-4160-4029-fa4a-508037693853"
      },
      "execution_count": 29,
      "outputs": [
        {
          "output_type": "stream",
          "name": "stdout",
          "text": [
            "Insira um valor qualquer: -1\n",
            "Valor negativo\n"
          ]
        }
      ]
    },
    {
      "cell_type": "code",
      "source": [
        "#Sistema de comparação entre valores\n",
        "\n",
        "v1 = int(input('Insira um valor qualquer: '))\n",
        "v2 = int(input('Insira um valor qualquer: '))\n",
        "\n",
        "if( v1 > v2):\n",
        "    print(f\"{v1} é maior que {v2}\")\n",
        "elif (v1 < v2):\n",
        "    print(f\"{v2} é maior que {v1}\")\n",
        "else:\n",
        "    print(\"Os valores são iguais\")\n",
        ""
      ],
      "metadata": {
        "colab": {
          "base_uri": "https://localhost:8080/"
        },
        "id": "XLJis-zVGBWc",
        "outputId": "d43899e2-0a72-4cb6-e5aa-3d667c1f4270"
      },
      "execution_count": 32,
      "outputs": [
        {
          "output_type": "stream",
          "name": "stdout",
          "text": [
            "Insira um valor qualquer: 8\n",
            "Insira um valor qualquer: 7\n",
            "8 é maior que 7\n"
          ]
        }
      ]
    }
  ]
}